{
 "cells": [
  {
   "cell_type": "markdown",
   "metadata": {},
   "source": [
    "# Example notebook for using classify_insurance package to take a fuzzy input string describing an insurance plan and recommending matching plans in Ribbon Health taxonomy."
   ]
  },
  {
   "cell_type": "code",
   "execution_count": 38,
   "metadata": {},
   "outputs": [],
   "source": [
    "import numpy as np\n",
    "import pandas as pd\n",
    "import sys\n",
    "sys.path.append('../')\n",
    "from classify_insurance.planmapper import PlanComparisonModel\n",
    "from classify_insurance.inputwithmappings import InputWithMappings\n",
    "from IPython.core.display import display, HTML"
   ]
  },
  {
   "cell_type": "code",
   "execution_count": 39,
   "metadata": {},
   "outputs": [],
   "source": [
    "def get_mapped_input(mapper, ix = None):\n",
    "    \"\"\"Select an already mapped input string and show properties of string and matching plans.\n",
    "\n",
    "    Arguments:\n",
    "        mapper (PlanComparisonModel obj): model for matching inputs to taxonomy.\n",
    "        ix (int): index of input string in confirmed mappings df. If None, select random index.\n",
    "    Returns:\n",
    "        input_string (str): input text string.\n",
    "        UUID_true (str): matching plan UUID.\n",
    "    \"\"\"\n",
    "\n",
    "    if not mapper.mapped_plans_loaded:\n",
    "        mapper.load_mapped_plans()\n",
    "    mapped_plans = mapper.mapped_plans\n",
    "    if not ix:\n",
    "        ix = np.random.choice(mapped_plans.index.tolist())\n",
    "\n",
    "    input_mapped_plan = mapper.index_to_mapped_input_plan(ix, mapped_plans)\n",
    "    input_string = input_mapped_plan['input_string']\n",
    "\n",
    "    print('\\nINPUT:')\n",
    "    print('index {}:'.format(ix))\n",
    "    print('input string: \"{}\"; Cleaned: \"{}\"'.format(input_string, mapper.clean_input_string(input_string)))\n",
    "    input_feature_dict = input_mapped_plan['input_feature_dict']\n",
    "    print('Features of input string:')\n",
    "    for feature in mapper.features:\n",
    "        print('{}: {}'.format(feature, input_feature_dict[feature]))\n",
    "\n",
    "    print('\\nTRUE MATCHING PLAN:')\n",
    "    UUID_true = input_mapped_plan['true_plan']['UUID']\n",
    "    print('Unique ID: {}'.format(UUID_true))\n",
    "    true_plan_feature_dict = input_mapped_plan['true_plan']\n",
    "    print('Features of true plan:')\n",
    "    for feature in mapper.features:\n",
    "        print('{}: {}'.format(feature, true_plan_feature_dict[feature]))\n",
    "\n",
    "    sim_vec_true = mapper.similarity_vector(input_feature_dict, true_plan_feature_dict)\n",
    "    sim_score_true = mapper.sim_vec_to_score.compute_score(sim_vec_true)\n",
    "    print('similarity vector:', sim_vec_true)\n",
    "    print('score:', sim_score_true)\n",
    "    return (input_string, UUID_true)\n",
    "\n",
    "def get_plan_recommendations(input_string, mapper, margin = 0.2):\n",
    "    \"\"\"Find recommended mathing plans to input string.\n",
    "\n",
    "    Arguments:\n",
    "        input_string (str): input text string.\n",
    "        mapper (PlanComparisonModel obj): model for matching inputs to taxonomy.\n",
    "        margin (flt): recommend all plans within margin of top similarity score.\n",
    "    Returns:\n",
    "        plan_info (InputWithMappings obj): contains recommended matches information.\n",
    "    \"\"\"\n",
    "    print('\\nCOMPARING INPUT TO INSURANCE PLANS...')\n",
    "    plan_info = InputWithMappings(input_string)\n",
    "    plan_info.compute_similarity_vectors_scores(mapper)\n",
    "    plan_info.get_recommendations(margin = 0.2, verbose=True)\n",
    "    return plan_info"
   ]
  },
  {
   "cell_type": "markdown",
   "metadata": {},
   "source": [
    "## Load the model that maps input strings to insurance plans"
   ]
  },
  {
   "cell_type": "code",
   "execution_count": 40,
   "metadata": {},
   "outputs": [],
   "source": [
    "mapper = PlanComparisonModel()"
   ]
  },
  {
   "cell_type": "markdown",
   "metadata": {},
   "source": [
    "## Choose from 2 options below:"
   ]
  },
  {
   "cell_type": "markdown",
   "metadata": {},
   "source": [
    "#### 1. use an already mapped input string (and print lots of information):"
   ]
  },
  {
   "cell_type": "code",
   "execution_count": 41,
   "metadata": {},
   "outputs": [
    {
     "name": "stdout",
     "output_type": "stream",
     "text": [
      "\n",
      "INPUT:\n",
      "index 333:\n",
      "input string: \"anthem blue cross - premier plus ppo\"; Cleaned: \"anthem blue cross premier plus ppo\"\n",
      "Features of input string:\n",
      "carrier_association: []\n",
      "carrier_brand: ['anthem', 'blue cross']\n",
      "carrier_name: ['anthem blue cross', 'blue cross', 'blue']\n",
      "state: []\n",
      "plan: ['plus', 'premier', 'blue', 'blue cross', 'premier plus']\n",
      "type: ['ppo']\n",
      "metal: []\n",
      "\n",
      "TRUE MATCHING PLAN:\n",
      "Unique ID: c20c884e-c070-48b4-a448-c75df5a26365\n",
      "Features of true plan:\n",
      "carrier_association: blue cross blue shield association\n",
      "carrier_brand: anthem\n",
      "carrier_name: anthem blue cross\n",
      "state: nan\n",
      "plan: premier plus\n",
      "type: ppo\n",
      "metal: nan\n",
      "similarity vector: [0.  1.  1.  0.5 1.  1.  0.  1. ]\n",
      "score: 8.269280828485197\n",
      "\n",
      "TRUE MATCHING PLAN DESCRIPTION BEFORE DATA CLEANING:\n"
     ]
    },
    {
     "data": {
      "text/html": [
       "<div>\n",
       "<style scoped>\n",
       "    .dataframe tbody tr th:only-of-type {\n",
       "        vertical-align: middle;\n",
       "    }\n",
       "\n",
       "    .dataframe tbody tr th {\n",
       "        vertical-align: top;\n",
       "    }\n",
       "\n",
       "    .dataframe thead th {\n",
       "        text-align: right;\n",
       "    }\n",
       "</style>\n",
       "<table border=\"1\" class=\"dataframe\">\n",
       "  <thead>\n",
       "    <tr style=\"text-align: right;\">\n",
       "      <th></th>\n",
       "      <th>Ribbon Insurance UUID</th>\n",
       "      <th>carrier_association</th>\n",
       "      <th>carrier_brand</th>\n",
       "      <th>carrier_name</th>\n",
       "      <th>state</th>\n",
       "      <th>plan_name</th>\n",
       "      <th>plan_type</th>\n",
       "      <th>metal_level</th>\n",
       "      <th>display_name</th>\n",
       "      <th>network</th>\n",
       "    </tr>\n",
       "  </thead>\n",
       "  <tbody>\n",
       "    <tr>\n",
       "      <th>162</th>\n",
       "      <td>c20c884e-c070-48b4-a448-c75df5a26365</td>\n",
       "      <td>BCBS Association</td>\n",
       "      <td>Anthem</td>\n",
       "      <td>Anthem Blue Cross</td>\n",
       "      <td>NaN</td>\n",
       "      <td>Premier Plus</td>\n",
       "      <td>PPO</td>\n",
       "      <td>NaN</td>\n",
       "      <td>Anthem Blue Cross - Premier Plus - PPO</td>\n",
       "      <td>NaN</td>\n",
       "    </tr>\n",
       "  </tbody>\n",
       "</table>\n",
       "</div>"
      ],
      "text/plain": [
       "                    Ribbon Insurance UUID carrier_association carrier_brand  \\\n",
       "162  c20c884e-c070-48b4-a448-c75df5a26365    BCBS Association        Anthem   \n",
       "\n",
       "          carrier_name state     plan_name plan_type metal_level  \\\n",
       "162  Anthem Blue Cross   NaN  Premier Plus       PPO         NaN   \n",
       "\n",
       "                               display_name  network  \n",
       "162  Anthem Blue Cross - Premier Plus - PPO      NaN  "
      ]
     },
     "execution_count": 41,
     "metadata": {},
     "output_type": "execute_result"
    }
   ],
   "source": [
    "input_string, UUID_true = get_mapped_input(mapper)\n",
    "print('\\nTRUE MATCHING PLAN DESCRIPTION BEFORE DATA CLEANING:')\n",
    "mapper.taxonomy_orig[mapper.taxonomy_orig['Ribbon Insurance UUID'] == UUID_true]"
   ]
  },
  {
   "cell_type": "markdown",
   "metadata": {},
   "source": [
    "#### 2. or directly select your own input string:"
   ]
  },
  {
   "cell_type": "code",
   "execution_count": null,
   "metadata": {},
   "outputs": [],
   "source": [
    "#input_string = 'bcbs - anthem pathway x ind ppo direct access ct'\n",
    "#UUID_true = None"
   ]
  },
  {
   "cell_type": "markdown",
   "metadata": {},
   "source": [
    "## Given the input string, find recommended matches in the plan taxonomy"
   ]
  },
  {
   "cell_type": "code",
   "execution_count": 42,
   "metadata": {},
   "outputs": [
    {
     "name": "stdout",
     "output_type": "stream",
     "text": [
      "\n",
      "COMPARING INPUT TO INSURANCE PLANS...\n",
      "\n",
      "SINGLE RECOMMENDED MATCH FOUND!\n",
      "top score = 8.269280828485197\n"
     ]
    }
   ],
   "source": [
    "plan_info = get_plan_recommendations(input_string, mapper)"
   ]
  },
  {
   "cell_type": "markdown",
   "metadata": {},
   "source": [
    "#### The best matching plan(s) in order of ranking (highest similarity score on top):"
   ]
  },
  {
   "cell_type": "code",
   "execution_count": 43,
   "metadata": {},
   "outputs": [
    {
     "data": {
      "text/html": [
       "<div>\n",
       "<style scoped>\n",
       "    .dataframe tbody tr th:only-of-type {\n",
       "        vertical-align: middle;\n",
       "    }\n",
       "\n",
       "    .dataframe tbody tr th {\n",
       "        vertical-align: top;\n",
       "    }\n",
       "\n",
       "    .dataframe thead th {\n",
       "        text-align: right;\n",
       "    }\n",
       "</style>\n",
       "<table border=\"1\" class=\"dataframe\">\n",
       "  <thead>\n",
       "    <tr style=\"text-align: right;\">\n",
       "      <th></th>\n",
       "      <th>UUID</th>\n",
       "      <th>carrier_association</th>\n",
       "      <th>carrier_brand</th>\n",
       "      <th>carrier_name</th>\n",
       "      <th>state</th>\n",
       "      <th>plan</th>\n",
       "      <th>type</th>\n",
       "      <th>metal</th>\n",
       "      <th>carrier_association_match</th>\n",
       "      <th>carrier_brand_match</th>\n",
       "      <th>carrier_name_match</th>\n",
       "      <th>state_match</th>\n",
       "      <th>plan_match</th>\n",
       "      <th>type_match</th>\n",
       "      <th>metal_match</th>\n",
       "      <th>input_string_match</th>\n",
       "      <th>similarity_score</th>\n",
       "    </tr>\n",
       "  </thead>\n",
       "  <tbody>\n",
       "    <tr>\n",
       "      <th>162</th>\n",
       "      <td>c20c884e-c070-48b4-a448-c75df5a26365</td>\n",
       "      <td>blue cross blue shield association</td>\n",
       "      <td>anthem</td>\n",
       "      <td>anthem blue cross</td>\n",
       "      <td>NaN</td>\n",
       "      <td>premier plus</td>\n",
       "      <td>ppo</td>\n",
       "      <td>NaN</td>\n",
       "      <td>0.0</td>\n",
       "      <td>1.0</td>\n",
       "      <td>1.0</td>\n",
       "      <td>0.5</td>\n",
       "      <td>1.0</td>\n",
       "      <td>1.0</td>\n",
       "      <td>0.0</td>\n",
       "      <td>1.0</td>\n",
       "      <td>8.269281</td>\n",
       "    </tr>\n",
       "  </tbody>\n",
       "</table>\n",
       "</div>"
      ],
      "text/plain": [
       "                                     UUID                 carrier_association  \\\n",
       "162  c20c884e-c070-48b4-a448-c75df5a26365  blue cross blue shield association   \n",
       "\n",
       "    carrier_brand       carrier_name state          plan type metal  \\\n",
       "162        anthem  anthem blue cross   NaN  premier plus  ppo   NaN   \n",
       "\n",
       "     carrier_association_match  carrier_brand_match  carrier_name_match  \\\n",
       "162                        0.0                  1.0                 1.0   \n",
       "\n",
       "     state_match  plan_match  type_match  metal_match  input_string_match  \\\n",
       "162          0.5         1.0         1.0          0.0                 1.0   \n",
       "\n",
       "     similarity_score  \n",
       "162          8.269281  "
      ]
     },
     "execution_count": 43,
     "metadata": {},
     "output_type": "execute_result"
    }
   ],
   "source": [
    "plan_info.recommendations[:plan_info.num_rec]"
   ]
  },
  {
   "cell_type": "code",
   "execution_count": 44,
   "metadata": {},
   "outputs": [],
   "source": [
    "if not plan_info.good_matches_found:\n",
    "    plan_info.recommend_taxonomy_entry()"
   ]
  },
  {
   "cell_type": "markdown",
   "metadata": {},
   "source": [
    "## If you started with an already mapped plan, you can check (again) what is the true matching plan"
   ]
  },
  {
   "cell_type": "code",
   "execution_count": 45,
   "metadata": {},
   "outputs": [
    {
     "name": "stdout",
     "output_type": "stream",
     "text": [
      "KNOWN TRUE MATCHING PLAN:\n"
     ]
    },
    {
     "data": {
      "text/html": [
       "<table border=\"1\" class=\"dataframe\">\n",
       "  <thead>\n",
       "    <tr style=\"text-align: right;\">\n",
       "      <th></th>\n",
       "      <th>UUID</th>\n",
       "      <th>carrier_association</th>\n",
       "      <th>carrier_brand</th>\n",
       "      <th>carrier_name</th>\n",
       "      <th>state</th>\n",
       "      <th>plan</th>\n",
       "      <th>type</th>\n",
       "      <th>metal</th>\n",
       "      <th>carrier_association_match</th>\n",
       "      <th>carrier_brand_match</th>\n",
       "      <th>carrier_name_match</th>\n",
       "      <th>state_match</th>\n",
       "      <th>plan_match</th>\n",
       "      <th>type_match</th>\n",
       "      <th>metal_match</th>\n",
       "      <th>input_string_match</th>\n",
       "      <th>similarity_score</th>\n",
       "    </tr>\n",
       "  </thead>\n",
       "  <tbody>\n",
       "    <tr>\n",
       "      <th>162</th>\n",
       "      <td>c20c884e-c070-48b4-a448-c75df5a26365</td>\n",
       "      <td>blue cross blue shield association</td>\n",
       "      <td>anthem</td>\n",
       "      <td>anthem blue cross</td>\n",
       "      <td>NaN</td>\n",
       "      <td>premier plus</td>\n",
       "      <td>ppo</td>\n",
       "      <td>NaN</td>\n",
       "      <td>0.0</td>\n",
       "      <td>1.0</td>\n",
       "      <td>1.0</td>\n",
       "      <td>0.5</td>\n",
       "      <td>1.0</td>\n",
       "      <td>1.0</td>\n",
       "      <td>0.0</td>\n",
       "      <td>1.0</td>\n",
       "      <td>8.269281</td>\n",
       "    </tr>\n",
       "  </tbody>\n",
       "</table>"
      ],
      "text/plain": [
       "<IPython.core.display.HTML object>"
      ]
     },
     "metadata": {},
     "output_type": "display_data"
    }
   ],
   "source": [
    "if isinstance(UUID_true, str):\n",
    "    if UUID_true in plan_info.recommendations['UUID'].values:\n",
    "        print('KNOWN TRUE MATCHING PLAN:')\n",
    "        display(HTML(plan_info.recommendations[plan_info.recommendations['UUID'] == UUID_true].to_html()))"
   ]
  },
  {
   "cell_type": "code",
   "execution_count": null,
   "metadata": {},
   "outputs": [],
   "source": []
  }
 ],
 "metadata": {
  "kernelspec": {
   "display_name": "Python 3",
   "language": "python",
   "name": "python3"
  },
  "language_info": {
   "codemirror_mode": {
    "name": "ipython",
    "version": 3
   },
   "file_extension": ".py",
   "mimetype": "text/x-python",
   "name": "python",
   "nbconvert_exporter": "python",
   "pygments_lexer": "ipython3",
   "version": "3.6.6"
  }
 },
 "nbformat": 4,
 "nbformat_minor": 2
}
